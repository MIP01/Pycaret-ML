{
  "nbformat": 4,
  "nbformat_minor": 0,
  "metadata": {
    "colab": {
      "provenance": []
    },
    "kernelspec": {
      "name": "python3",
      "display_name": "Python 3"
    },
    "language_info": {
      "name": "python"
    },
    "accelerator": "GPU",
    "gpuClass": "standard"
  },
  "cells": [
    {
      "cell_type": "markdown",
      "source": [
        "# Data Preparation\n",
        "Dalam mempersiapkan data terdapat beberapa library yang umum digunakan, di antaranya adalah:\n",
        "\n",
        "1.   Numpy\n",
        "2.   Pandas\n",
        "\n",
        "Penerapan yang sering digunakan kedua library tersebut akan kita praktikkan pada Notebook ini.\n",
        "\n"
      ],
      "metadata": {
        "id": "EqvwdW9wpR6e"
      }
    },
    {
      "cell_type": "code",
      "execution_count": null,
      "metadata": {
        "id": "WZizhGFQ6PpA"
      },
      "outputs": [],
      "source": [
        "# Dalam python, komnter dibuat seperti ini\n",
        "# Untuk menggunakan library, kita harus melakukan import terlebih dahulu\n",
        "\n",
        "import numpy as np\n",
        "import pandas as pd"
      ]
    },
    {
      "cell_type": "markdown",
      "source": [
        "Kita perlu melakukan download dataset melalui link ini, dan meng-upload-nya seperti gambar di bawah ini\n",
        "![image.png](data:image/png;base64,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)"
      ],
      "metadata": {
        "id": "5gcuFnXDrQiQ"
      }
    },
    {
      "cell_type": "markdown",
      "source": [
        "Kita akan memuat file dataset.csv ke dalam variabel df sebagai DataFrame\n",
        "\n",
        "Hal tersebut dilakukan dengan menggunakan pandas yang telah di import sebagai pd dan menggunakan fungsi read_csv\n",
        "\n",
        "Untuk mengetahui path dari file yang diunggah, arahkan kursor ke nama file, klik \"titik tiga\" di bagian kanan, dan \"Copy path\""
      ],
      "metadata": {
        "id": "tWpMfCERtFhA"
      }
    },
    {
      "cell_type": "code",
      "source": [
        "#Dataset: https://www.kaggle.com/datasets/anshulmehtakaggl/60k-responses-of-16-personalities-test-mbt\n",
        "df = pd.read_csv(\"/content/16P.csv\",encoding='cp1252') #Load dataset\n",
        "print(type(df)) #Menampilkan tipe data df\n",
        "df.tail() #Menampilkan data teratas"
      ],
      "metadata": {
        "colab": {
          "base_uri": "https://localhost:8080/",
          "height": 577
        },
        "id": "aW-fdFS4q_27",
        "outputId": "c7f63796-1863-4759-9024-fc4323609d82"
      },
      "execution_count": null,
      "outputs": [
        {
          "output_type": "stream",
          "name": "stdout",
          "text": [
            "<class 'pandas.core.frame.DataFrame'>\n"
          ]
        },
        {
          "output_type": "execute_result",
          "data": {
            "text/plain": [
              "       Response Id  You regularly make new friends.  \\\n",
              "59994        59994                                0   \n",
              "59995        59995                                0   \n",
              "59996        59996                                0   \n",
              "59997        59997                                0   \n",
              "59998        59998                                0   \n",
              "\n",
              "       You spend a lot of your free time exploring various random topics that pique your interest  \\\n",
              "59994                                                 -1                                            \n",
              "59995                                                  0                                            \n",
              "59996                                                  0                                            \n",
              "59997                                                  0                                            \n",
              "59998                                                  0                                            \n",
              "\n",
              "       Seeing other people cry can easily make you feel like you want to cry too  \\\n",
              "59994                                                  0                           \n",
              "59995                                                 -2                           \n",
              "59996                                                  1                           \n",
              "59997                                                  1                           \n",
              "59998                                                  2                           \n",
              "\n",
              "       You often make a backup plan for a backup plan.  \\\n",
              "59994                                               -3   \n",
              "59995                                                1   \n",
              "59996                                                0   \n",
              "59997                                               -1   \n",
              "59998                                                0   \n",
              "\n",
              "       You usually stay calm, even under a lot of pressure  \\\n",
              "59994                                                 -2     \n",
              "59995                                                  3     \n",
              "59996                                                 -2     \n",
              "59997                                                 -2     \n",
              "59998                                                 -1     \n",
              "\n",
              "       At social events, you rarely try to introduce yourself to new people and mostly talk to the ones you already know  \\\n",
              "59994                                                  2                                                                   \n",
              "59995                                                  0                                                                   \n",
              "59996                                                 -2                                                                   \n",
              "59997                                                 -1                                                                   \n",
              "59998                                                  0                                                                   \n",
              "\n",
              "       You prefer to completely finish one project before starting another.  \\\n",
              "59994                                                  1                      \n",
              "59995                                                 -3                      \n",
              "59996                                                  0                      \n",
              "59997                                                  2                      \n",
              "59998                                                  0                      \n",
              "\n",
              "       You are very sentimental.  \\\n",
              "59994                          0   \n",
              "59995                          0   \n",
              "59996                          0   \n",
              "59997                          0   \n",
              "59998                          0   \n",
              "\n",
              "       You like to use organizing tools like schedules and lists.  ...  \\\n",
              "59994                                                  1           ...   \n",
              "59995                                                  2           ...   \n",
              "59996                                                 -1           ...   \n",
              "59997                                                  1           ...   \n",
              "59998                                                  2           ...   \n",
              "\n",
              "       You believe that pondering abstract philosophical questions is a waste of time.  \\\n",
              "59994                                                  0                                 \n",
              "59995                                                  0                                 \n",
              "59996                                                 -1                                 \n",
              "59997                                                  0                                 \n",
              "59998                                                  0                                 \n",
              "\n",
              "       You feel more drawn to places with busy, bustling atmospheres than quiet, intimate places.  \\\n",
              "59994                                                  2                                            \n",
              "59995                                                  1                                            \n",
              "59996                                                  2                                            \n",
              "59997                                                  2                                            \n",
              "59998                                                 -1                                            \n",
              "\n",
              "       You know at first glance how someone is feeling.  \\\n",
              "59994                                                 0   \n",
              "59995                                                 0   \n",
              "59996                                                 0   \n",
              "59997                                                 0   \n",
              "59998                                                 0   \n",
              "\n",
              "       You often feel overwhelmed.  \\\n",
              "59994                            1   \n",
              "59995                            0   \n",
              "59996                           -3   \n",
              "59997                            2   \n",
              "59998                            3   \n",
              "\n",
              "       You complete things methodically without skipping over any steps.  \\\n",
              "59994                                                  0                   \n",
              "59995                                                  0                   \n",
              "59996                                                  0                   \n",
              "59997                                                  0                   \n",
              "59998                                                  1                   \n",
              "\n",
              "       You are very intrigued by things labeled as controversial.  \\\n",
              "59994                                                  0            \n",
              "59995                                                  0            \n",
              "59996                                                  1            \n",
              "59997                                                  0            \n",
              "59998                                                  0            \n",
              "\n",
              "       You would pass along a good opportunity if you thought someone else needed it more.  \\\n",
              "59994                                                  2                                     \n",
              "59995                                                  2                                     \n",
              "59996                                                 -1                                     \n",
              "59997                                                  0                                     \n",
              "59998                                                  1                                     \n",
              "\n",
              "       You struggle with deadlines.  \\\n",
              "59994                             3   \n",
              "59995                             0   \n",
              "59996                             0   \n",
              "59997                             1   \n",
              "59998                             0   \n",
              "\n",
              "       You feel confident that things will work out for you.  Personality  \n",
              "59994                                                  3             INFJ  \n",
              "59995                                                 -2             ESTP  \n",
              "59996                                                 -1             ISTP  \n",
              "59997                                                  0             ISTJ  \n",
              "59998                                                 -1             INFJ  \n",
              "\n",
              "[5 rows x 62 columns]"
            ],
            "text/html": [
              "\n",
              "  <div id=\"df-04d13097-f777-4405-97e8-b60c3fdd89ee\">\n",
              "    <div class=\"colab-df-container\">\n",
              "      <div>\n",
              "<style scoped>\n",
              "    .dataframe tbody tr th:only-of-type {\n",
              "        vertical-align: middle;\n",
              "    }\n",
              "\n",
              "    .dataframe tbody tr th {\n",
              "        vertical-align: top;\n",
              "    }\n",
              "\n",
              "    .dataframe thead th {\n",
              "        text-align: right;\n",
              "    }\n",
              "</style>\n",
              "<table border=\"1\" class=\"dataframe\">\n",
              "  <thead>\n",
              "    <tr style=\"text-align: right;\">\n",
              "      <th></th>\n",
              "      <th>Response Id</th>\n",
              "      <th>You regularly make new friends.</th>\n",
              "      <th>You spend a lot of your free time exploring various random topics that pique your interest</th>\n",
              "      <th>Seeing other people cry can easily make you feel like you want to cry too</th>\n",
              "      <th>You often make a backup plan for a backup plan.</th>\n",
              "      <th>You usually stay calm, even under a lot of pressure</th>\n",
              "      <th>At social events, you rarely try to introduce yourself to new people and mostly talk to the ones you already know</th>\n",
              "      <th>You prefer to completely finish one project before starting another.</th>\n",
              "      <th>You are very sentimental.</th>\n",
              "      <th>You like to use organizing tools like schedules and lists.</th>\n",
              "      <th>...</th>\n",
              "      <th>You believe that pondering abstract philosophical questions is a waste of time.</th>\n",
              "      <th>You feel more drawn to places with busy, bustling atmospheres than quiet, intimate places.</th>\n",
              "      <th>You know at first glance how someone is feeling.</th>\n",
              "      <th>You often feel overwhelmed.</th>\n",
              "      <th>You complete things methodically without skipping over any steps.</th>\n",
              "      <th>You are very intrigued by things labeled as controversial.</th>\n",
              "      <th>You would pass along a good opportunity if you thought someone else needed it more.</th>\n",
              "      <th>You struggle with deadlines.</th>\n",
              "      <th>You feel confident that things will work out for you.</th>\n",
              "      <th>Personality</th>\n",
              "    </tr>\n",
              "  </thead>\n",
              "  <tbody>\n",
              "    <tr>\n",
              "      <th>59994</th>\n",
              "      <td>59994</td>\n",
              "      <td>0</td>\n",
              "      <td>-1</td>\n",
              "      <td>0</td>\n",
              "      <td>-3</td>\n",
              "      <td>-2</td>\n",
              "      <td>2</td>\n",
              "      <td>1</td>\n",
              "      <td>0</td>\n",
              "      <td>1</td>\n",
              "      <td>...</td>\n",
              "      <td>0</td>\n",
              "      <td>2</td>\n",
              "      <td>0</td>\n",
              "      <td>1</td>\n",
              "      <td>0</td>\n",
              "      <td>0</td>\n",
              "      <td>2</td>\n",
              "      <td>3</td>\n",
              "      <td>3</td>\n",
              "      <td>INFJ</td>\n",
              "    </tr>\n",
              "    <tr>\n",
              "      <th>59995</th>\n",
              "      <td>59995</td>\n",
              "      <td>0</td>\n",
              "      <td>0</td>\n",
              "      <td>-2</td>\n",
              "      <td>1</td>\n",
              "      <td>3</td>\n",
              "      <td>0</td>\n",
              "      <td>-3</td>\n",
              "      <td>0</td>\n",
              "      <td>2</td>\n",
              "      <td>...</td>\n",
              "      <td>0</td>\n",
              "      <td>1</td>\n",
              "      <td>0</td>\n",
              "      <td>0</td>\n",
              "      <td>0</td>\n",
              "      <td>0</td>\n",
              "      <td>2</td>\n",
              "      <td>0</td>\n",
              "      <td>-2</td>\n",
              "      <td>ESTP</td>\n",
              "    </tr>\n",
              "    <tr>\n",
              "      <th>59996</th>\n",
              "      <td>59996</td>\n",
              "      <td>0</td>\n",
              "      <td>0</td>\n",
              "      <td>1</td>\n",
              "      <td>0</td>\n",
              "      <td>-2</td>\n",
              "      <td>-2</td>\n",
              "      <td>0</td>\n",
              "      <td>0</td>\n",
              "      <td>-1</td>\n",
              "      <td>...</td>\n",
              "      <td>-1</td>\n",
              "      <td>2</td>\n",
              "      <td>0</td>\n",
              "      <td>-3</td>\n",
              "      <td>0</td>\n",
              "      <td>1</td>\n",
              "      <td>-1</td>\n",
              "      <td>0</td>\n",
              "      <td>-1</td>\n",
              "      <td>ISTP</td>\n",
              "    </tr>\n",
              "    <tr>\n",
              "      <th>59997</th>\n",
              "      <td>59997</td>\n",
              "      <td>0</td>\n",
              "      <td>0</td>\n",
              "      <td>1</td>\n",
              "      <td>-1</td>\n",
              "      <td>-2</td>\n",
              "      <td>-1</td>\n",
              "      <td>2</td>\n",
              "      <td>0</td>\n",
              "      <td>1</td>\n",
              "      <td>...</td>\n",
              "      <td>0</td>\n",
              "      <td>2</td>\n",
              "      <td>0</td>\n",
              "      <td>2</td>\n",
              "      <td>0</td>\n",
              "      <td>0</td>\n",
              "      <td>0</td>\n",
              "      <td>1</td>\n",
              "      <td>0</td>\n",
              "      <td>ISTJ</td>\n",
              "    </tr>\n",
              "    <tr>\n",
              "      <th>59998</th>\n",
              "      <td>59998</td>\n",
              "      <td>0</td>\n",
              "      <td>0</td>\n",
              "      <td>2</td>\n",
              "      <td>0</td>\n",
              "      <td>-1</td>\n",
              "      <td>0</td>\n",
              "      <td>0</td>\n",
              "      <td>0</td>\n",
              "      <td>2</td>\n",
              "      <td>...</td>\n",
              "      <td>0</td>\n",
              "      <td>-1</td>\n",
              "      <td>0</td>\n",
              "      <td>3</td>\n",
              "      <td>1</td>\n",
              "      <td>0</td>\n",
              "      <td>1</td>\n",
              "      <td>0</td>\n",
              "      <td>-1</td>\n",
              "      <td>INFJ</td>\n",
              "    </tr>\n",
              "  </tbody>\n",
              "</table>\n",
              "<p>5 rows × 62 columns</p>\n",
              "</div>\n",
              "      <button class=\"colab-df-convert\" onclick=\"convertToInteractive('df-04d13097-f777-4405-97e8-b60c3fdd89ee')\"\n",
              "              title=\"Convert this dataframe to an interactive table.\"\n",
              "              style=\"display:none;\">\n",
              "        \n",
              "  <svg xmlns=\"http://www.w3.org/2000/svg\" height=\"24px\"viewBox=\"0 0 24 24\"\n",
              "       width=\"24px\">\n",
              "    <path d=\"M0 0h24v24H0V0z\" fill=\"none\"/>\n",
              "    <path d=\"M18.56 5.44l.94 2.06.94-2.06 2.06-.94-2.06-.94-.94-2.06-.94 2.06-2.06.94zm-11 1L8.5 8.5l.94-2.06 2.06-.94-2.06-.94L8.5 2.5l-.94 2.06-2.06.94zm10 10l.94 2.06.94-2.06 2.06-.94-2.06-.94-.94-2.06-.94 2.06-2.06.94z\"/><path d=\"M17.41 7.96l-1.37-1.37c-.4-.4-.92-.59-1.43-.59-.52 0-1.04.2-1.43.59L10.3 9.45l-7.72 7.72c-.78.78-.78 2.05 0 2.83L4 21.41c.39.39.9.59 1.41.59.51 0 1.02-.2 1.41-.59l7.78-7.78 2.81-2.81c.8-.78.8-2.07 0-2.86zM5.41 20L4 18.59l7.72-7.72 1.47 1.35L5.41 20z\"/>\n",
              "  </svg>\n",
              "      </button>\n",
              "      \n",
              "  <style>\n",
              "    .colab-df-container {\n",
              "      display:flex;\n",
              "      flex-wrap:wrap;\n",
              "      gap: 12px;\n",
              "    }\n",
              "\n",
              "    .colab-df-convert {\n",
              "      background-color: #E8F0FE;\n",
              "      border: none;\n",
              "      border-radius: 50%;\n",
              "      cursor: pointer;\n",
              "      display: none;\n",
              "      fill: #1967D2;\n",
              "      height: 32px;\n",
              "      padding: 0 0 0 0;\n",
              "      width: 32px;\n",
              "    }\n",
              "\n",
              "    .colab-df-convert:hover {\n",
              "      background-color: #E2EBFA;\n",
              "      box-shadow: 0px 1px 2px rgba(60, 64, 67, 0.3), 0px 1px 3px 1px rgba(60, 64, 67, 0.15);\n",
              "      fill: #174EA6;\n",
              "    }\n",
              "\n",
              "    [theme=dark] .colab-df-convert {\n",
              "      background-color: #3B4455;\n",
              "      fill: #D2E3FC;\n",
              "    }\n",
              "\n",
              "    [theme=dark] .colab-df-convert:hover {\n",
              "      background-color: #434B5C;\n",
              "      box-shadow: 0px 1px 3px 1px rgba(0, 0, 0, 0.15);\n",
              "      filter: drop-shadow(0px 1px 2px rgba(0, 0, 0, 0.3));\n",
              "      fill: #FFFFFF;\n",
              "    }\n",
              "  </style>\n",
              "\n",
              "      <script>\n",
              "        const buttonEl =\n",
              "          document.querySelector('#df-04d13097-f777-4405-97e8-b60c3fdd89ee button.colab-df-convert');\n",
              "        buttonEl.style.display =\n",
              "          google.colab.kernel.accessAllowed ? 'block' : 'none';\n",
              "\n",
              "        async function convertToInteractive(key) {\n",
              "          const element = document.querySelector('#df-04d13097-f777-4405-97e8-b60c3fdd89ee');\n",
              "          const dataTable =\n",
              "            await google.colab.kernel.invokeFunction('convertToInteractive',\n",
              "                                                     [key], {});\n",
              "          if (!dataTable) return;\n",
              "\n",
              "          const docLinkHtml = 'Like what you see? Visit the ' +\n",
              "            '<a target=\"_blank\" href=https://colab.research.google.com/notebooks/data_table.ipynb>data table notebook</a>'\n",
              "            + ' to learn more about interactive tables.';\n",
              "          element.innerHTML = '';\n",
              "          dataTable['output_type'] = 'display_data';\n",
              "          await google.colab.output.renderOutput(dataTable, element);\n",
              "          const docLink = document.createElement('div');\n",
              "          docLink.innerHTML = docLinkHtml;\n",
              "          element.appendChild(docLink);\n",
              "        }\n",
              "      </script>\n",
              "    </div>\n",
              "  </div>\n",
              "  "
            ]
          },
          "metadata": {},
          "execution_count": 81
        }
      ]
    },
    {
      "cell_type": "markdown",
      "source": [
        "Dalam data teratas pada variabel pd terdapat banyak sekali data yang ada, dan salah satu nilai yang terlihat adalah NaN yang mewakili Not a Number. NaN inilah salah satu hal yang perlu dibersikan karena NaN tidak berisi apa-apa pada nilainya, namun cara membersihkan NaN akan dijelaskan nanti. Untuk sekarang mari kita pilih kolom yang ingin digunakan"
      ],
      "metadata": {
        "id": "Bgi6xJ_Tuxt2"
      }
    },
    {
      "cell_type": "code",
      "source": [
        "df = pd.read_csv(\"/content/16P.csv\",encoding='cp1252') #Data perlu di load ulang karena karakteristik inplace=True\n",
        "#penjelasan lebih lanjut dapat di baca pada \"https://towardsdatascience.com/why-you-should-probably-never-use-pandas-inplace-true-9f9f211849e4\"\n",
        "\n",
        "to_drop = ['Response Id']\n",
        "\n",
        "df.drop(to_drop, inplace=True, axis=1) #Fungsi untuk menghapus kolom tertentu sesuai to_drop\n",
        "#namun, tidak selalu perlu menggunakan variabel lain seperti to_drop, dapat berupa baris kode di bawah ini\n",
        "\n",
        "# df_dropped = df.drop(['Response Id'], inplace=True, axis=1)\n",
        "# df.drop(columns=to_drop, inplace=True) #atau dapat menggunakan kode ini\n",
        "df.head()"
      ],
      "metadata": {
        "id": "qJz6XBXUt5Xe"
      },
      "execution_count": null,
      "outputs": []
    },
    {
      "cell_type": "code",
      "source": [
        "# Selain dengan menggunakan drop, kita dapat memilih kolom tertentu saja\n",
        "df[['Response Id']].head()"
      ],
      "metadata": {
        "id": "iI8hlG1ayBOv"
      },
      "execution_count": null,
      "outputs": []
    },
    {
      "cell_type": "code",
      "source": [
        "#Check for NaN Value\n",
        "check_nan = df.isnull().values.any()\n",
        " \n",
        "print(check_nan)"
      ],
      "metadata": {
        "colab": {
          "base_uri": "https://localhost:8080/"
        },
        "id": "ECXtOAedXZYT",
        "outputId": "c98a7775-7dfc-49b7-b381-1d3ff3dc9478"
      },
      "execution_count": null,
      "outputs": [
        {
          "output_type": "stream",
          "name": "stdout",
          "text": [
            "False\n"
          ]
        }
      ]
    },
    {
      "cell_type": "code",
      "source": [
        "# Mari kita bersihkan data, dengan menghilangkan NaN\n",
        "clean_df = df.dropna()\n",
        "clean_df.head()"
      ],
      "metadata": {
        "id": "njrvOncJ8HwD"
      },
      "execution_count": null,
      "outputs": []
    },
    {
      "cell_type": "code",
      "source": [
        "# NaN pun dapat diberikan nilai\n",
        "df.fillna(13+0).head()"
      ],
      "metadata": {
        "id": "DjFLVOur8nnf"
      },
      "execution_count": null,
      "outputs": []
    },
    {
      "cell_type": "code",
      "source": [
        "#Check column type\n",
        "result = df.dtypes\n",
        "\n",
        "print(\"Output:\")\n",
        "print(result)"
      ],
      "metadata": {
        "colab": {
          "base_uri": "https://localhost:8080/"
        },
        "id": "_ptCv39rYDDg",
        "outputId": "5ed1c3d6-76d6-454d-eea5-57b85b955c75"
      },
      "execution_count": null,
      "outputs": [
        {
          "output_type": "stream",
          "name": "stdout",
          "text": [
            "Output:\n",
            "Response Id                                                                                    int64\n",
            "You regularly make new friends.                                                                int64\n",
            "You spend a lot of your free time exploring various random topics that pique your interest     int64\n",
            "Seeing other people cry can easily make you feel like you want to cry too                      int64\n",
            "You often make a backup plan for a backup plan.                                                int64\n",
            "                                                                                               ...  \n",
            "You are very intrigued by things labeled as controversial.                                     int64\n",
            "You would pass along a good opportunity if you thought someone else needed it more.            int64\n",
            "You struggle with deadlines.                                                                   int64\n",
            "You feel confident that things will work out for you.                                          int64\n",
            "Personality                                                                                   object\n",
            "Length: 62, dtype: object\n"
          ]
        }
      ]
    },
    {
      "cell_type": "code",
      "source": [
        "df.duplicated(['Response Id']) # mencari nilai duplikat dari kolom"
      ],
      "metadata": {
        "id": "6OGFMkpdFecq",
        "colab": {
          "base_uri": "https://localhost:8080/"
        },
        "outputId": "2af2bd7f-b1a3-4d29-c06e-77731a39cb36"
      },
      "execution_count": null,
      "outputs": [
        {
          "output_type": "execute_result",
          "data": {
            "text/plain": [
              "0        False\n",
              "1        False\n",
              "2        False\n",
              "3        False\n",
              "4        False\n",
              "         ...  \n",
              "59994    False\n",
              "59995    False\n",
              "59996    False\n",
              "59997    False\n",
              "59998    False\n",
              "Length: 59999, dtype: bool"
            ]
          },
          "metadata": {},
          "execution_count": 8
        }
      ]
    },
    {
      "cell_type": "code",
      "source": [
        "clean_df.drop_duplicates(inplace = True) # menghapus duplikat"
      ],
      "metadata": {
        "id": "fXdkx-oDGDqh"
      },
      "execution_count": null,
      "outputs": []
    },
    {
      "cell_type": "markdown",
      "source": [
        "# Data Visualization\n",
        "\n",
        "Untuk memahami data kita dapat dibantu dengan menampilkannya pada grafik, berikut merupakan contoh paling dasar untuk menampilkan grafik menggunakan data yang sebelumnya kita gunakan"
      ],
      "metadata": {
        "id": "C1HWuC23GWoJ"
      }
    },
    {
      "cell_type": "code",
      "source": [
        "import matplotlib.pyplot as plt"
      ],
      "metadata": {
        "id": "ZHEQo51FGZuU"
      },
      "execution_count": null,
      "outputs": []
    },
    {
      "cell_type": "code",
      "source": [
        "#menjumlahkan data pada kolom\n",
        "df = pd.read_csv(\"/content/16P.csv\",encoding='cp1252')\n",
        "list_of_my_columns = ['You struggle with deadlines.']\n",
        "df['Sum'] = df[list_of_my_columns].sum(axis=1)\n",
        "len(df[df.Sum == 1])"
      ],
      "metadata": {
        "colab": {
          "base_uri": "https://localhost:8080/"
        },
        "id": "s2OZfD0REtq3",
        "outputId": "878330ed-e54e-4b89-d115-823a8f940bf8"
      },
      "execution_count": null,
      "outputs": [
        {
          "output_type": "execute_result",
          "data": {
            "text/plain": [
              "12211"
            ]
          },
          "metadata": {},
          "execution_count": 115
        }
      ]
    },
    {
      "cell_type": "code",
      "source": [
        "#visualisasi jumlah data yang ada pada kolom\n",
        "Fully_agree = len(df[df.Sum == 3])\n",
        "Partially_agree = len(df[df.Sum == 2])\n",
        "Slightly_agree = len(df[df.Sum == 1])\n",
        "neutral = len(df[df.Sum == 0])\n",
        "Slightly_disagree = len(df[df.Sum == -1])\n",
        "Partially_disagree = len(df[df.Sum == -2])\n",
        "Fully_disagree = len(df[df.Sum == -3])\n",
        "index = ['You struggle with deadlines']\n",
        "\n",
        "df = pd.DataFrame({'Fully agree': Fully_agree,\n",
        "                   'Partially agree': Partially_agree,\n",
        "                   'Slightly agree': Slightly_agree,\n",
        "                   'neutral': neutral,\n",
        "                   'Slightly disagree': Slightly_disagree,\n",
        "                  'Partially disagree': Partially_disagree,\n",
        "                  'Fully disagree': Fully_disagree}, index=index)\n",
        "ax = df.plot.bar(rot=0)\n",
        "\n",
        "plt.title(\"questions for personality classification\")\n",
        "plt.ylabel(\"Respondent\")"
      ],
      "metadata": {
        "colab": {
          "base_uri": "https://localhost:8080/",
          "height": 298
        },
        "id": "LTqjdkRqIqWn",
        "outputId": "1bc4475a-153b-4a24-9938-fd6eec89825d"
      },
      "execution_count": null,
      "outputs": [
        {
          "output_type": "execute_result",
          "data": {
            "text/plain": [
              "Text(0, 0.5, 'Respondent')"
            ]
          },
          "metadata": {},
          "execution_count": 116
        },
        {
          "output_type": "display_data",
          "data": {
            "text/plain": [
              "<Figure size 432x288 with 1 Axes>"
            ],
            "image/png": "[encoded data removed]"
          },
          "metadata": {
            "needs_background": "light"
          }
        }
      ]
    },
    {
      "cell_type": "markdown",
      "source": [
        "Referensi lebih lanjut untuk pyplot [klik di sini](https://www.w3schools.com/python/matplotlib_intro.asp)"
      ],
      "metadata": {
        "id": "YnR3uWR1ISSI"
      }
    }
  ]
}